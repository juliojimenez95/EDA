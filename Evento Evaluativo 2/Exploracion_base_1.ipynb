{
 "cells": [
  {
   "cell_type": "markdown",
   "id": "ccf6f75f",
   "metadata": {},
   "source": [
    "# Fase 1: Exploración de bases de datos\n",
    "Cada equipo debe explorar al menos 3 bases de datos de al menos 2 tipos diferentes\n",
    "(ejemplo: tabular, im ́agenes, audio, texto). Para cada base de datos se debe documentar:"
   ]
  },
  {
   "cell_type": "markdown",
   "id": "340eebf2",
   "metadata": {},
   "source": [
    "## 1. Fuente y tipo de datos (primaria, secundaria o terciaria)."
   ]
  },
  {
   "cell_type": "markdown",
   "id": "e5a133c3",
   "metadata": {},
   "source": [
    "### Descargar y descomprimir la fuente de datos"
   ]
  },
  {
   "cell_type": "code",
   "execution_count": 1,
   "id": "eae3c773",
   "metadata": {
    "vscode": {
     "languageId": "markdown"
    }
   },
   "outputs": [
    {
     "name": "stdout",
     "output_type": "stream",
     "text": [
      "--2025-09-26 10:09:02--  https://www.medellin.gov.co/apigeomedellin/atributos/archivos/openDataExt/Gis/open_data/OD396/shp_estrato_socioeconomico.zip\n",
      "Resolving www.medellin.gov.co (www.medellin.gov.co)... 200.13.232.188, 2801:1d6:0:20:3:0:222:101\n",
      "Connecting to www.medellin.gov.co (www.medellin.gov.co)|200.13.232.188|:443... connected.\n",
      "HTTP request sent, awaiting response... 200 OK\n",
      "Length: 39134047 (37M) [application/zip]\n",
      "Saving to: ‘shp_estrato_socioeconomico.zip.1’\n",
      "\n",
      "shp_estrato_socioec 100%[===================>]  37.32M  6.57MB/s    in 9.8s    \n",
      "\n",
      "2025-09-26 10:09:12 (3.81 MB/s) - ‘shp_estrato_socioeconomico.zip.1’ saved [39134047/39134047]\n",
      "\n"
     ]
    }
   ],
   "source": [
    "!wget https://www.medellin.gov.co/apigeomedellin/atributos/archivos/openDataExt/Gis/open_data/OD396/shp_estrato_socioeconomico.zip"
   ]
  },
  {
   "cell_type": "code",
   "execution_count": null,
   "id": "e91d949e",
   "metadata": {},
   "outputs": [
    {
     "name": "stdout",
     "output_type": "stream",
     "text": [
      "Archive:  shp_estrato_socioeconomico.zip\n",
      "replace estrato_socioeconomico/estrato_socioeconomico.cpg? [y]es, [n]o, [A]ll, [N]one, [r]ename: "
     ]
    }
   ],
   "source": [
    "!unzip shp_estrato_socioeconomico.zip -d estrato_socioeconomico"
   ]
  },
  {
   "cell_type": "markdown",
   "id": "856a87ab",
   "metadata": {},
   "source": [
    "La fuente de datos es **secundaria** dado que se esta obteniendo de de una base recogida, procesada y publicada por la alcaldia de medellín en este enlace: *https://www.medellin.gov.co/geomedellin/datosAbiertos/396*"
   ]
  },
  {
   "cell_type": "markdown",
   "id": "944dff43",
   "metadata": {},
   "source": [
    "### Instalación e importación de librerias necesarias para explorar los datos"
   ]
  },
  {
   "cell_type": "code",
   "execution_count": null,
   "id": "95e69af0",
   "metadata": {},
   "outputs": [
    {
     "name": "stdout",
     "output_type": "stream",
     "text": [
      "Collecting geopandas\n",
      "  Downloading geopandas-1.1.1-py3-none-any.whl.metadata (2.3 kB)\n",
      "Requirement already satisfied: matplotlib in /home/juanbetancur/anaconda3/lib/python3.12/site-packages (3.9.2)\n",
      "Requirement already satisfied: numpy>=1.24 in /home/juanbetancur/anaconda3/lib/python3.12/site-packages (from geopandas) (1.26.4)\n",
      "Collecting pyogrio>=0.7.2 (from geopandas)\n",
      "  Downloading pyogrio-0.11.1-cp312-cp312-manylinux_2_28_x86_64.whl.metadata (5.3 kB)\n",
      "Requirement already satisfied: packaging in /home/juanbetancur/anaconda3/lib/python3.12/site-packages (from geopandas) (24.1)\n",
      "Requirement already satisfied: pandas>=2.0.0 in /home/juanbetancur/anaconda3/lib/python3.12/site-packages (from geopandas) (2.2.2)\n",
      "Collecting pyproj>=3.5.0 (from geopandas)\n",
      "  Downloading pyproj-3.7.2-cp312-cp312-manylinux_2_28_x86_64.whl.metadata (31 kB)\n",
      "Collecting shapely>=2.0.0 (from geopandas)\n",
      "  Downloading shapely-2.1.1-cp312-cp312-manylinux_2_17_x86_64.manylinux2014_x86_64.whl.metadata (6.7 kB)\n",
      "Requirement already satisfied: contourpy>=1.0.1 in /home/juanbetancur/anaconda3/lib/python3.12/site-packages (from matplotlib) (1.2.0)\n",
      "Requirement already satisfied: cycler>=0.10 in /home/juanbetancur/anaconda3/lib/python3.12/site-packages (from matplotlib) (0.11.0)\n",
      "Requirement already satisfied: fonttools>=4.22.0 in /home/juanbetancur/anaconda3/lib/python3.12/site-packages (from matplotlib) (4.51.0)\n",
      "Requirement already satisfied: kiwisolver>=1.3.1 in /home/juanbetancur/anaconda3/lib/python3.12/site-packages (from matplotlib) (1.4.4)\n",
      "Requirement already satisfied: pillow>=8 in /home/juanbetancur/anaconda3/lib/python3.12/site-packages (from matplotlib) (10.4.0)\n",
      "Requirement already satisfied: pyparsing>=2.3.1 in /home/juanbetancur/anaconda3/lib/python3.12/site-packages (from matplotlib) (3.1.2)\n",
      "Requirement already satisfied: python-dateutil>=2.7 in /home/juanbetancur/anaconda3/lib/python3.12/site-packages (from matplotlib) (2.9.0.post0)\n",
      "Requirement already satisfied: pytz>=2020.1 in /home/juanbetancur/anaconda3/lib/python3.12/site-packages (from pandas>=2.0.0->geopandas) (2024.1)\n",
      "Requirement already satisfied: tzdata>=2022.7 in /home/juanbetancur/anaconda3/lib/python3.12/site-packages (from pandas>=2.0.0->geopandas) (2023.3)\n",
      "Requirement already satisfied: certifi in /home/juanbetancur/anaconda3/lib/python3.12/site-packages (from pyogrio>=0.7.2->geopandas) (2024.8.30)\n",
      "Requirement already satisfied: six>=1.5 in /home/juanbetancur/anaconda3/lib/python3.12/site-packages (from python-dateutil>=2.7->matplotlib) (1.16.0)\n",
      "Downloading geopandas-1.1.1-py3-none-any.whl (338 kB)\n",
      "Downloading pyogrio-0.11.1-cp312-cp312-manylinux_2_28_x86_64.whl (27.7 MB)\n",
      "\u001b[2K   \u001b[90m━━━━━━━━━━━━━━━━━━━━━━━━━━━━━━━━━━━━━━━━\u001b[0m \u001b[32m27.7/27.7 MB\u001b[0m \u001b[31m33.0 MB/s\u001b[0m eta \u001b[36m0:00:00\u001b[0m00:01\u001b[0m00:01\u001b[0m\n",
      "\u001b[?25hDownloading pyproj-3.7.2-cp312-cp312-manylinux_2_28_x86_64.whl (9.6 MB)\n",
      "\u001b[2K   \u001b[90m━━━━━━━━━━━━━━━━━━━━━━━━━━━━━━━━━━━━━━━━\u001b[0m \u001b[32m9.6/9.6 MB\u001b[0m \u001b[31m30.3 MB/s\u001b[0m eta \u001b[36m0:00:00\u001b[0ma \u001b[36m0:00:01\u001b[0m\n",
      "\u001b[?25hDownloading shapely-2.1.1-cp312-cp312-manylinux_2_17_x86_64.manylinux2014_x86_64.whl (3.1 MB)\n",
      "\u001b[2K   \u001b[90m━━━━━━━━━━━━━━━━━━━━━━━━━━━━━━━━━━━━━━━━\u001b[0m \u001b[32m3.1/3.1 MB\u001b[0m \u001b[31m15.1 MB/s\u001b[0m eta \u001b[36m0:00:00\u001b[0m\n",
      "\u001b[?25hInstalling collected packages: shapely, pyproj, pyogrio, geopandas\n",
      "Successfully installed geopandas-1.1.1 pyogrio-0.11.1 pyproj-3.7.2 shapely-2.1.1\n"
     ]
    }
   ],
   "source": [
    "!pip install geopandas matplotlib"
   ]
  },
  {
   "cell_type": "code",
   "execution_count": null,
   "id": "817670ae",
   "metadata": {},
   "outputs": [],
   "source": [
    "import geopandas as gpd\n",
    "import matplotlib.pyplot as plt\n",
    "from shapely.geometry import box\n"
   ]
  },
  {
   "cell_type": "markdown",
   "id": "7f5933f8",
   "metadata": {},
   "source": [
    "## 2. Características básicas"
   ]
  },
  {
   "cell_type": "markdown",
   "id": "c4c03140",
   "metadata": {},
   "source": [
    "### 2.1. Estructura de la base de datos"
   ]
  },
  {
   "cell_type": "code",
   "execution_count": null,
   "id": "873c86f0",
   "metadata": {},
   "outputs": [
    {
     "name": "stderr",
     "output_type": "stream",
     "text": [
      "/home/juanbetancur/.conda/envs/EDA/lib/python3.13/site-packages/pyogrio/raw.py:198: RuntimeWarning: organizePolygons() received an unexpected geometry.  Either a polygon with interior rings, or a polygon with less than 4 points, or a non-Polygon geometry.  Return arguments as a collection.\n",
      "  return ogr_read(\n",
      "/home/juanbetancur/.conda/envs/EDA/lib/python3.13/site-packages/pyogrio/raw.py:198: RuntimeWarning: Geometry of polygon of fid 12031 cannot be translated to Simple Geometry. All polygons will be contained in a multipolygon.\n",
      "  return ogr_read(\n",
      "/home/juanbetancur/.conda/envs/EDA/lib/python3.13/site-packages/pyogrio/raw.py:198: RuntimeWarning: Geometry of polygon of fid 29114 cannot be translated to Simple Geometry. All polygons will be contained in a multipolygon.\n",
      "  return ogr_read(\n"
     ]
    }
   ],
   "source": [
    "gdf = gpd.read_file(\"estrato_socioeconomico/estrato_socioeconomico.shp\")\n"
   ]
  },
  {
   "cell_type": "code",
   "execution_count": null,
   "id": "9390c5b9",
   "metadata": {},
   "outputs": [
    {
     "data": {
      "text/html": [
       "<div>\n",
       "<style scoped>\n",
       "    .dataframe tbody tr th:only-of-type {\n",
       "        vertical-align: middle;\n",
       "    }\n",
       "\n",
       "    .dataframe tbody tr th {\n",
       "        vertical-align: top;\n",
       "    }\n",
       "\n",
       "    .dataframe thead th {\n",
       "        text-align: right;\n",
       "    }\n",
       "</style>\n",
       "<table border=\"1\" class=\"dataframe\">\n",
       "  <thead>\n",
       "    <tr style=\"text-align: right;\">\n",
       "      <th></th>\n",
       "      <th>comuna</th>\n",
       "      <th>barrio</th>\n",
       "      <th>codigo_bar</th>\n",
       "      <th>manzana</th>\n",
       "      <th>estrato</th>\n",
       "      <th>fecha_sinc</th>\n",
       "      <th>Shape_Leng</th>\n",
       "      <th>Shape_Area</th>\n",
       "      <th>geometry</th>\n",
       "    </tr>\n",
       "  </thead>\n",
       "  <tbody>\n",
       "    <tr>\n",
       "      <th>0</th>\n",
       "      <td>11</td>\n",
       "      <td>06</td>\n",
       "      <td>1106</td>\n",
       "      <td>None</td>\n",
       "      <td>5</td>\n",
       "      <td>2024-04-23</td>\n",
       "      <td>3543.992871</td>\n",
       "      <td>25918.292272</td>\n",
       "      <td>POLYGON ((4713614.148 2248705.974, 4713626.921...</td>\n",
       "    </tr>\n",
       "    <tr>\n",
       "      <th>1</th>\n",
       "      <td>13</td>\n",
       "      <td>01</td>\n",
       "      <td>1301</td>\n",
       "      <td>None</td>\n",
       "      <td>1</td>\n",
       "      <td>2024-04-23</td>\n",
       "      <td>14338.287834</td>\n",
       "      <td>40471.154025</td>\n",
       "      <td>MULTIPOLYGON (((4712289.617 2251676.801, 47122...</td>\n",
       "    </tr>\n",
       "    <tr>\n",
       "      <th>2</th>\n",
       "      <td>05</td>\n",
       "      <td>12</td>\n",
       "      <td>0512</td>\n",
       "      <td>None</td>\n",
       "      <td>2</td>\n",
       "      <td>2024-04-23</td>\n",
       "      <td>7041.723095</td>\n",
       "      <td>76352.829107</td>\n",
       "      <td>MULTIPOLYGON (((4715957.97 2253328.743, 471596...</td>\n",
       "    </tr>\n",
       "    <tr>\n",
       "      <th>3</th>\n",
       "      <td>10</td>\n",
       "      <td>17</td>\n",
       "      <td>1017</td>\n",
       "      <td>None</td>\n",
       "      <td>4</td>\n",
       "      <td>2024-04-23</td>\n",
       "      <td>11388.742621</td>\n",
       "      <td>72188.709269</td>\n",
       "      <td>MULTIPOLYGON (((4717067.379 2249437.395, 47170...</td>\n",
       "    </tr>\n",
       "    <tr>\n",
       "      <th>4</th>\n",
       "      <td>04</td>\n",
       "      <td>11</td>\n",
       "      <td>0411</td>\n",
       "      <td>None</td>\n",
       "      <td>3</td>\n",
       "      <td>2024-04-23</td>\n",
       "      <td>7092.678106</td>\n",
       "      <td>41182.817296</td>\n",
       "      <td>MULTIPOLYGON (((4717247.833 2252285.007, 47172...</td>\n",
       "    </tr>\n",
       "  </tbody>\n",
       "</table>\n",
       "</div>"
      ],
      "text/plain": [
       "  comuna barrio codigo_bar manzana  estrato fecha_sinc    Shape_Leng  \\\n",
       "0     11     06       1106    None        5 2024-04-23   3543.992871   \n",
       "1     13     01       1301    None        1 2024-04-23  14338.287834   \n",
       "2     05     12       0512    None        2 2024-04-23   7041.723095   \n",
       "3     10     17       1017    None        4 2024-04-23  11388.742621   \n",
       "4     04     11       0411    None        3 2024-04-23   7092.678106   \n",
       "\n",
       "     Shape_Area                                           geometry  \n",
       "0  25918.292272  POLYGON ((4713614.148 2248705.974, 4713626.921...  \n",
       "1  40471.154025  MULTIPOLYGON (((4712289.617 2251676.801, 47122...  \n",
       "2  76352.829107  MULTIPOLYGON (((4715957.97 2253328.743, 471596...  \n",
       "3  72188.709269  MULTIPOLYGON (((4717067.379 2249437.395, 47170...  \n",
       "4  41182.817296  MULTIPOLYGON (((4717247.833 2252285.007, 47172...  "
      ]
     },
     "execution_count": 3,
     "metadata": {},
     "output_type": "execute_result"
    }
   ],
   "source": [
    "gdf.head()"
   ]
  },
  {
   "cell_type": "code",
   "execution_count": null,
   "id": "ccb97610",
   "metadata": {},
   "outputs": [
    {
     "ename": "GEOSException",
     "evalue": "IllegalArgumentException: Ring has fewer than 4 points, so orientation cannot be determined",
     "output_type": "error",
     "traceback": [
      "\u001b[31m---------------------------------------------------------------------------\u001b[39m",
      "\u001b[31mGEOSException\u001b[39m                             Traceback (most recent call last)",
      "\u001b[36mCell\u001b[39m\u001b[36m \u001b[39m\u001b[32mIn[4]\u001b[39m\u001b[32m, line 1\u001b[39m\n\u001b[32m----> \u001b[39m\u001b[32m1\u001b[39m \u001b[43mgdf\u001b[49m\u001b[43m.\u001b[49m\u001b[43mplot\u001b[49m\u001b[43m(\u001b[49m\u001b[43m)\u001b[49m\n\u001b[32m      2\u001b[39m plt.show()\n",
      "\u001b[36mFile \u001b[39m\u001b[32m~/.conda/envs/EDA/lib/python3.13/site-packages/geopandas/plotting.py:962\u001b[39m, in \u001b[36mGeoplotAccessor.__call__\u001b[39m\u001b[34m(self, *args, **kwargs)\u001b[39m\n\u001b[32m    960\u001b[39m kind = kwargs.pop(\u001b[33m\"\u001b[39m\u001b[33mkind\u001b[39m\u001b[33m\"\u001b[39m, \u001b[33m\"\u001b[39m\u001b[33mgeo\u001b[39m\u001b[33m\"\u001b[39m)\n\u001b[32m    961\u001b[39m \u001b[38;5;28;01mif\u001b[39;00m kind == \u001b[33m\"\u001b[39m\u001b[33mgeo\u001b[39m\u001b[33m\"\u001b[39m:\n\u001b[32m--> \u001b[39m\u001b[32m962\u001b[39m     \u001b[38;5;28;01mreturn\u001b[39;00m \u001b[43mplot_dataframe\u001b[49m\u001b[43m(\u001b[49m\u001b[43mdata\u001b[49m\u001b[43m,\u001b[49m\u001b[43m \u001b[49m\u001b[43m*\u001b[49m\u001b[43margs\u001b[49m\u001b[43m,\u001b[49m\u001b[43m \u001b[49m\u001b[43m*\u001b[49m\u001b[43m*\u001b[49m\u001b[43mkwargs\u001b[49m\u001b[43m)\u001b[49m\n\u001b[32m    963\u001b[39m \u001b[38;5;28;01mif\u001b[39;00m kind \u001b[38;5;129;01min\u001b[39;00m \u001b[38;5;28mself\u001b[39m._pandas_kinds:\n\u001b[32m    964\u001b[39m     \u001b[38;5;66;03m# Access pandas plots\u001b[39;00m\n\u001b[32m    965\u001b[39m     \u001b[38;5;28;01mreturn\u001b[39;00m PlotAccessor(data)(kind=kind, **kwargs)\n",
      "\u001b[36mFile \u001b[39m\u001b[32m~/.conda/envs/EDA/lib/python3.13/site-packages/geopandas/plotting.py:688\u001b[39m, in \u001b[36mplot_dataframe\u001b[39m\u001b[34m(df, column, cmap, color, ax, cax, categorical, legend, scheme, k, vmin, vmax, markersize, figsize, legend_kwds, categories, classification_kwds, missing_kwds, aspect, autolim, **style_kwds)\u001b[39m\n\u001b[32m    685\u001b[39m     markersize = df[markersize].values\n\u001b[32m    687\u001b[39m \u001b[38;5;28;01mif\u001b[39;00m column \u001b[38;5;129;01mis\u001b[39;00m \u001b[38;5;28;01mNone\u001b[39;00m:\n\u001b[32m--> \u001b[39m\u001b[32m688\u001b[39m     \u001b[38;5;28;01mreturn\u001b[39;00m \u001b[43mplot_series\u001b[49m\u001b[43m(\u001b[49m\n\u001b[32m    689\u001b[39m \u001b[43m        \u001b[49m\u001b[43mdf\u001b[49m\u001b[43m.\u001b[49m\u001b[43mgeometry\u001b[49m\u001b[43m,\u001b[49m\n\u001b[32m    690\u001b[39m \u001b[43m        \u001b[49m\u001b[43mcmap\u001b[49m\u001b[43m=\u001b[49m\u001b[43mcmap\u001b[49m\u001b[43m,\u001b[49m\n\u001b[32m    691\u001b[39m \u001b[43m        \u001b[49m\u001b[43mcolor\u001b[49m\u001b[43m=\u001b[49m\u001b[43mcolor\u001b[49m\u001b[43m,\u001b[49m\n\u001b[32m    692\u001b[39m \u001b[43m        \u001b[49m\u001b[43max\u001b[49m\u001b[43m=\u001b[49m\u001b[43max\u001b[49m\u001b[43m,\u001b[49m\n\u001b[32m    693\u001b[39m \u001b[43m        \u001b[49m\u001b[43mfigsize\u001b[49m\u001b[43m=\u001b[49m\u001b[43mfigsize\u001b[49m\u001b[43m,\u001b[49m\n\u001b[32m    694\u001b[39m \u001b[43m        \u001b[49m\u001b[43mmarkersize\u001b[49m\u001b[43m=\u001b[49m\u001b[43mmarkersize\u001b[49m\u001b[43m,\u001b[49m\n\u001b[32m    695\u001b[39m \u001b[43m        \u001b[49m\u001b[43maspect\u001b[49m\u001b[43m=\u001b[49m\u001b[43maspect\u001b[49m\u001b[43m,\u001b[49m\n\u001b[32m    696\u001b[39m \u001b[43m        \u001b[49m\u001b[43mautolim\u001b[49m\u001b[43m=\u001b[49m\u001b[43mautolim\u001b[49m\u001b[43m,\u001b[49m\n\u001b[32m    697\u001b[39m \u001b[43m        \u001b[49m\u001b[43m*\u001b[49m\u001b[43m*\u001b[49m\u001b[43mstyle_kwds\u001b[49m\u001b[43m,\u001b[49m\n\u001b[32m    698\u001b[39m \u001b[43m    \u001b[49m\u001b[43m)\u001b[49m\n\u001b[32m    700\u001b[39m \u001b[38;5;66;03m# To accept pd.Series and np.arrays as column\u001b[39;00m\n\u001b[32m    701\u001b[39m \u001b[38;5;28;01mif\u001b[39;00m \u001b[38;5;28misinstance\u001b[39m(column, np.ndarray | pd.Series | pd.Index):\n",
      "\u001b[36mFile \u001b[39m\u001b[32m~/.conda/envs/EDA/lib/python3.13/site-packages/geopandas/plotting.py:422\u001b[39m, in \u001b[36mplot_series\u001b[39m\u001b[34m(s, cmap, color, ax, figsize, aspect, autolim, **style_kwds)\u001b[39m\n\u001b[32m    419\u001b[39m     style_kwds[\u001b[33m\"\u001b[39m\u001b[33mvmax\u001b[39m\u001b[33m\"\u001b[39m] = style_kwds.get(\u001b[33m\"\u001b[39m\u001b[33mvmax\u001b[39m\u001b[33m\"\u001b[39m, values.max())\n\u001b[32m    421\u001b[39m \u001b[38;5;66;03m# decompose GeometryCollections\u001b[39;00m\n\u001b[32m--> \u001b[39m\u001b[32m422\u001b[39m geoms, multiindex = \u001b[43m_sanitize_geoms\u001b[49m\u001b[43m(\u001b[49m\u001b[43ms\u001b[49m\u001b[43m.\u001b[49m\u001b[43mgeometry\u001b[49m\u001b[43m,\u001b[49m\u001b[43m \u001b[49m\u001b[43mprefix\u001b[49m\u001b[43m=\u001b[49m\u001b[33;43m\"\u001b[39;49m\u001b[33;43mGeom\u001b[39;49m\u001b[33;43m\"\u001b[39;49m\u001b[43m)\u001b[49m\n\u001b[32m    423\u001b[39m values = np.take(values, multiindex, axis=\u001b[32m0\u001b[39m) \u001b[38;5;28;01mif\u001b[39;00m cmap \u001b[38;5;28;01melse\u001b[39;00m \u001b[38;5;28;01mNone\u001b[39;00m\n\u001b[32m    424\u001b[39m \u001b[38;5;66;03m# ensure indexes are consistent\u001b[39;00m\n",
      "\u001b[36mFile \u001b[39m\u001b[32m~/.conda/envs/EDA/lib/python3.13/site-packages/geopandas/plotting.py:31\u001b[39m, in \u001b[36m_sanitize_geoms\u001b[39m\u001b[34m(geoms, prefix)\u001b[39m\n\u001b[32m     14\u001b[39m \u001b[38;5;250m\u001b[39m\u001b[33;03m\"\"\"Return Series like geoms and index, except that any Multi geometries\u001b[39;00m\n\u001b[32m     15\u001b[39m \u001b[33;03mare split into their components and indices are repeated for all component\u001b[39;00m\n\u001b[32m     16\u001b[39m \u001b[33;03min the same Multi geometry. At the same time, empty or missing geometries are\u001b[39;00m\n\u001b[32m   (...)\u001b[39m\u001b[32m     27\u001b[39m \u001b[33;03m    indices are repeated for all components in the same Multi geometry\u001b[39;00m\n\u001b[32m     28\u001b[39m \u001b[33;03m\"\"\"\u001b[39;00m\n\u001b[32m     29\u001b[39m \u001b[38;5;66;03m# TODO(shapely) look into simplifying this with\u001b[39;00m\n\u001b[32m     30\u001b[39m \u001b[38;5;66;03m# shapely.get_parts(geoms, return_index=True) from shapely 2.0\u001b[39;00m\n\u001b[32m---> \u001b[39m\u001b[32m31\u001b[39m geoms = \u001b[43mgeoms\u001b[49m\u001b[43m.\u001b[49m\u001b[43mnormalize\u001b[49m\u001b[43m(\u001b[49m\u001b[43m)\u001b[49m\n\u001b[32m     32\u001b[39m components, component_index = [], []\n\u001b[32m     34\u001b[39m \u001b[38;5;28;01mif\u001b[39;00m (\n\u001b[32m     35\u001b[39m     \u001b[38;5;129;01mnot\u001b[39;00m geoms.geom_type.str.startswith(prefix).any()\n\u001b[32m     36\u001b[39m     \u001b[38;5;129;01mand\u001b[39;00m \u001b[38;5;129;01mnot\u001b[39;00m geoms.is_empty.any()\n\u001b[32m     37\u001b[39m     \u001b[38;5;129;01mand\u001b[39;00m \u001b[38;5;129;01mnot\u001b[39;00m geoms.isna().any()\n\u001b[32m     38\u001b[39m ):\n",
      "\u001b[36mFile \u001b[39m\u001b[32m~/.conda/envs/EDA/lib/python3.13/site-packages/geopandas/base.py:2058\u001b[39m, in \u001b[36mGeoPandasBase.normalize\u001b[39m\u001b[34m(self)\u001b[39m\n\u001b[32m   2028\u001b[39m \u001b[38;5;28;01mdef\u001b[39;00m\u001b[38;5;250m \u001b[39m\u001b[34mnormalize\u001b[39m(\u001b[38;5;28mself\u001b[39m):\n\u001b[32m   2029\u001b[39m \u001b[38;5;250m    \u001b[39m\u001b[33;03m\"\"\"Return a ``GeoSeries`` of normalized\u001b[39;00m\n\u001b[32m   2030\u001b[39m \u001b[33;03m    geometries to normal form (or canonical form).\u001b[39;00m\n\u001b[32m   2031\u001b[39m \n\u001b[32m   (...)\u001b[39m\u001b[32m   2056\u001b[39m \u001b[33;03m    dtype: geometry\u001b[39;00m\n\u001b[32m   2057\u001b[39m \u001b[33;03m    \"\"\"\u001b[39;00m\n\u001b[32m-> \u001b[39m\u001b[32m2058\u001b[39m     \u001b[38;5;28;01mreturn\u001b[39;00m \u001b[43m_delegate_geo_method\u001b[49m\u001b[43m(\u001b[49m\u001b[33;43m\"\u001b[39;49m\u001b[33;43mnormalize\u001b[39;49m\u001b[33;43m\"\u001b[39;49m\u001b[43m,\u001b[49m\u001b[43m \u001b[49m\u001b[38;5;28;43mself\u001b[39;49m\u001b[43m)\u001b[49m\n",
      "\u001b[36mFile \u001b[39m\u001b[32m~/.conda/envs/EDA/lib/python3.13/site-packages/geopandas/base.py:129\u001b[39m, in \u001b[36m_delegate_geo_method\u001b[39m\u001b[34m(op, this, **kwargs)\u001b[39m\n\u001b[32m    126\u001b[39m         kwargs[key] = np.asarray(val)\n\u001b[32m    128\u001b[39m a_this = GeometryArray(this.geometry.values)\n\u001b[32m--> \u001b[39m\u001b[32m129\u001b[39m data = \u001b[38;5;28;43mgetattr\u001b[39;49m\u001b[43m(\u001b[49m\u001b[43ma_this\u001b[49m\u001b[43m,\u001b[49m\u001b[43m \u001b[49m\u001b[43mop\u001b[49m\u001b[43m)\u001b[49m\u001b[43m(\u001b[49m\u001b[43m*\u001b[49m\u001b[43m*\u001b[49m\u001b[43mkwargs\u001b[49m\u001b[43m)\u001b[49m\n\u001b[32m    130\u001b[39m \u001b[38;5;28;01mreturn\u001b[39;00m GeoSeries(data, index=this.index, crs=this.crs)\n",
      "\u001b[36mFile \u001b[39m\u001b[32m~/.conda/envs/EDA/lib/python3.13/site-packages/geopandas/array.py:709\u001b[39m, in \u001b[36mGeometryArray.normalize\u001b[39m\u001b[34m(self)\u001b[39m\n\u001b[32m    708\u001b[39m \u001b[38;5;28;01mdef\u001b[39;00m\u001b[38;5;250m \u001b[39m\u001b[34mnormalize\u001b[39m(\u001b[38;5;28mself\u001b[39m):\n\u001b[32m--> \u001b[39m\u001b[32m709\u001b[39m     \u001b[38;5;28;01mreturn\u001b[39;00m GeometryArray(\u001b[43mshapely\u001b[49m\u001b[43m.\u001b[49m\u001b[43mnormalize\u001b[49m\u001b[43m(\u001b[49m\u001b[38;5;28;43mself\u001b[39;49m\u001b[43m.\u001b[49m\u001b[43m_data\u001b[49m\u001b[43m)\u001b[49m, crs=\u001b[38;5;28mself\u001b[39m.crs)\n",
      "\u001b[36mFile \u001b[39m\u001b[32m~/.conda/envs/EDA/lib/python3.13/site-packages/shapely/decorators.py:88\u001b[39m, in \u001b[36mmultithreading_enabled.<locals>.wrapped\u001b[39m\u001b[34m(*args, **kwargs)\u001b[39m\n\u001b[32m     86\u001b[39m     \u001b[38;5;28;01mfor\u001b[39;00m arr \u001b[38;5;129;01min\u001b[39;00m array_args:\n\u001b[32m     87\u001b[39m         arr.flags.writeable = \u001b[38;5;28;01mFalse\u001b[39;00m\n\u001b[32m---> \u001b[39m\u001b[32m88\u001b[39m     \u001b[38;5;28;01mreturn\u001b[39;00m \u001b[43mfunc\u001b[49m\u001b[43m(\u001b[49m\u001b[43m*\u001b[49m\u001b[43margs\u001b[49m\u001b[43m,\u001b[49m\u001b[43m \u001b[49m\u001b[43m*\u001b[49m\u001b[43m*\u001b[49m\u001b[43mkwargs\u001b[49m\u001b[43m)\u001b[49m\n\u001b[32m     89\u001b[39m \u001b[38;5;28;01mfinally\u001b[39;00m:\n\u001b[32m     90\u001b[39m     \u001b[38;5;28;01mfor\u001b[39;00m arr, old_flag \u001b[38;5;129;01min\u001b[39;00m \u001b[38;5;28mzip\u001b[39m(array_args, old_flags):\n",
      "\u001b[36mFile \u001b[39m\u001b[32m~/.conda/envs/EDA/lib/python3.13/site-packages/shapely/constructive.py:829\u001b[39m, in \u001b[36mnormalize\u001b[39m\u001b[34m(geometry, **kwargs)\u001b[39m\n\u001b[32m    804\u001b[39m \u001b[38;5;129m@multithreading_enabled\u001b[39m\n\u001b[32m    805\u001b[39m \u001b[38;5;28;01mdef\u001b[39;00m\u001b[38;5;250m \u001b[39m\u001b[34mnormalize\u001b[39m(geometry, **kwargs):\n\u001b[32m    806\u001b[39m \u001b[38;5;250m    \u001b[39m\u001b[33;03m\"\"\"Convert Geometry to strict normal form (or canonical form).\u001b[39;00m\n\u001b[32m    807\u001b[39m \n\u001b[32m    808\u001b[39m \u001b[33;03m    In :ref:`strict canonical form <canonical-form>`, the coordinates, rings of\u001b[39;00m\n\u001b[32m   (...)\u001b[39m\u001b[32m    827\u001b[39m \n\u001b[32m    828\u001b[39m \u001b[33;03m    \"\"\"\u001b[39;00m\n\u001b[32m--> \u001b[39m\u001b[32m829\u001b[39m     \u001b[38;5;28;01mreturn\u001b[39;00m \u001b[43mlib\u001b[49m\u001b[43m.\u001b[49m\u001b[43mnormalize\u001b[49m\u001b[43m(\u001b[49m\u001b[43mgeometry\u001b[49m\u001b[43m,\u001b[49m\u001b[43m \u001b[49m\u001b[43m*\u001b[49m\u001b[43m*\u001b[49m\u001b[43mkwargs\u001b[49m\u001b[43m)\u001b[49m\n",
      "\u001b[31mGEOSException\u001b[39m: IllegalArgumentException: Ring has fewer than 4 points, so orientation cannot be determined"
     ]
    },
    {
     "data": {
      "image/png": "[encoded data removed]",
      "text/plain": [
       "<Figure size 640x480 with 1 Axes>"
      ]
     },
     "metadata": {},
     "output_type": "display_data"
    }
   ],
   "source": [
    "gdf.plot()\n",
    "plt.show()"
   ]
  },
  {
   "cell_type": "code",
   "execution_count": null,
   "id": "77a8b86c",
   "metadata": {},
   "outputs": [
    {
     "name": "stdout",
     "output_type": "stream",
     "text": [
      "Numero de filas: 32384\n",
      "Numero de columnas: 9\n",
      "Tamaño en memoria: 7.62 MB\n",
      "Columnas: ['comuna', 'barrio', 'codigo_bar', 'manzana', 'estrato', 'fecha_sinc', 'Shape_Leng', 'Shape_Area', 'geometry']\n",
      "Tipos de datos:  \n",
      "comuna                object\n",
      "barrio                object\n",
      "codigo_bar            object\n",
      "manzana               object\n",
      "estrato                int32\n",
      "fecha_sinc    datetime64[ms]\n",
      "Shape_Leng           float64\n",
      "Shape_Area           float64\n",
      "geometry            geometry\n",
      "dtype: object\n"
     ]
    }
   ],
   "source": [
    "print(\"Numero de filas: \" + str(len(gdf)))\n",
    "print(\"Numero de columnas: \" + str(len(gdf.columns)))\n",
    "print(\"Tamaño en memoria: \" + str(round(gdf.memory_usage(deep=True).sum()/1024**2,2)) + \" MB\")\n",
    "print(\"Columnas: \" + str(gdf.columns.tolist()))\n",
    "print(\"Tipos de datos:  \\n\" + str(gdf.dtypes))"
   ]
  },
  {
   "cell_type": "code",
   "execution_count": null,
   "id": "6fc7bbca",
   "metadata": {},
   "outputs": [
    {
     "name": "stdout",
     "output_type": "stream",
     "text": [
      "Numero de nulos por columna: \n",
      "comuna          0\n",
      "barrio          0\n",
      "codigo_bar      0\n",
      "manzana       347\n",
      "estrato         0\n",
      "fecha_sinc      0\n",
      "Shape_Leng      0\n",
      "Shape_Area      0\n",
      "geometry        0\n",
      "dtype: int64\n",
      "\n",
      "\n",
      "% de valores nulos respecto al total de registros: 1.07%\n"
     ]
    }
   ],
   "source": [
    "print(\"Numero de nulos por columna: \\n\" + str(gdf.isnull().sum()))\n",
    "print(\"\\n\")\n",
    "print(\"% de valores nulos respecto al total de registros: \" + str(round((gdf.isnull().sum().sum()/len(gdf))*100,2)) + \"%\")\n"
   ]
  },
  {
   "cell_type": "code",
   "execution_count": null,
   "id": "34121b6e",
   "metadata": {},
   "outputs": [
    {
     "name": "stdout",
     "output_type": "stream",
     "text": [
      "Calidad geométrica: \n",
      "\n",
      "Geomatrias validas: 32242\n",
      "Geomatrias invalidas: 142\n",
      "Geometrias vacias: 0\n",
      "tipos de geometria: ['Polygon' 'MultiPolygon']\n",
      "Cantidad de geometrías por tipo: \n",
      "Polygon         32076\n",
      "MultiPolygon      308\n",
      "Name: count, dtype: int64\n"
     ]
    }
   ],
   "source": [
    "print(\"Calidad geométrica: \\n\" )\n",
    "print(\"Geomatrias validas: \" +str(gdf.is_valid.sum()))\n",
    "print(\"Geomatrias invalidas: \" +str(len(gdf)-(gdf.is_valid).sum()))\n",
    "print(\"Geometrias vacias: \" +str(gdf.is_empty.sum()))\n",
    "print(\"tipos de geometria: \" +str(gdf.geom_type.unique()))\n",
    "print(\"Cantidad de geometrías por tipo: \\n\" + str(gdf.geom_type.value_counts()))"
   ]
  }
 ],
 "metadata": {
  "kernelspec": {
   "display_name": "EDA",
   "language": "python",
   "name": "python3"
  },
  "language_info": {
   "codemirror_mode": {
    "name": "ipython",
    "version": 3
   },
   "file_extension": ".py",
   "mimetype": "text/x-python",
   "name": "python",
   "nbconvert_exporter": "python",
   "pygments_lexer": "ipython3",
   "version": "3.13.7"
  }
 },
 "nbformat": 4,
 "nbformat_minor": 5
}
