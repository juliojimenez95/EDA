{
 "cells": [
  {
   "cell_type": "code",
   "execution_count": 2,
   "id": "ab1df665",
   "metadata": {},
   "outputs": [],
   "source": [
    "import joblib\n",
    "import os\n",
    "import pandas as pd\n",
    "import numpy as np"
   ]
  },
  {
   "cell_type": "code",
   "execution_count": 3,
   "id": "c22b4cde",
   "metadata": {},
   "outputs": [
    {
     "name": "stdout",
     "output_type": "stream",
     "text": [
      "\n",
      "✅ Modelos y preprocesadores cargados exitosamente desde la carpeta 'Student Performance'.\n"
     ]
    }
   ],
   "source": [
    "NOMBRE_CARPETA = 'Student Performance'\n",
    "\n",
    "try:\n",
    "    # Construye las rutas completas a los archivos\n",
    "    ruta_scaler = os.path.join(NOMBRE_CARPETA, 'scaler.joblib')\n",
    "    ruta_poly_features = os.path.join(NOMBRE_CARPETA, 'poly_features.joblib')\n",
    "    ruta_modelo_lineal = os.path.join(NOMBRE_CARPETA, 'modelo_regresion_lineal.joblib')\n",
    "    ruta_modelo_polinomico = os.path.join(NOMBRE_CARPETA, 'modelo_regresion_polinomico.joblib')\n",
    "\n",
    "    # Carga los objetos desde los archivos\n",
    "    scaler = joblib.load(ruta_scaler)\n",
    "    poly_features = joblib.load(ruta_poly_features)\n",
    "    linear_model = joblib.load(ruta_modelo_lineal)\n",
    "    poly_model = joblib.load(ruta_modelo_polinomico)\n",
    "\n",
    "    print(f\"\\n✅ Modelos y preprocesadores cargados exitosamente desde la carpeta '{NOMBRE_CARPETA}'.\")\n",
    "\n",
    "except FileNotFoundError:\n",
    "    print(f\"\\n❌ ERROR: No se encontraron los archivos en la carpeta '{NOMBRE_CARPETA}'.\")\n",
    "    print(\"   Asegúrate de que este cuaderno esté en el mismo directorio que la carpeta 'Student Performance'.\")"
   ]
  },
  {
   "cell_type": "code",
   "execution_count": 4,
   "id": "1073f834",
   "metadata": {},
   "outputs": [],
   "source": [
    "def predecir_calificacion_final(G1, G2, studytime, failures, absences):\n",
    "    \"\"\"\n",
    "    Realiza una predicción de la calificación final (G3) utilizando los modelos cargados.\n",
    "    \n",
    "    Args:\n",
    "        G1 (int): Calificación del primer periodo (0-20).\n",
    "        G2 (int): Calificación del segundo periodo (0-20).\n",
    "        studytime (int): Tiempo de estudio semanal (1: <2h, 2: 2-5h, 3: 5-10h, 4: >10h).\n",
    "        failures (int): Número de clases reprobadas anteriormente (0-4).\n",
    "        absences (int): Número de ausencias escolares (0-93).\n",
    "        \n",
    "    Returns:\n",
    "        dict: Un diccionario con las predicciones de ambos modelos.\n",
    "    \"\"\"\n",
    "    try:\n",
    "        # Crear un DataFrame con los datos de entrada\n",
    "        # El orden de las columnas DEBE ser el mismo que en el entrenamiento\n",
    "        columnas_ordenadas = ['G1', 'G2', 'studytime', 'failures', 'absences']\n",
    "        datos_nuevos = pd.DataFrame([[G1, G2, studytime, failures, absences]], columns=columnas_ordenadas)\n",
    "        \n",
    "        print(\"\\n--------------------------------------------------\")\n",
    "        print(\"Datos de entrada del estudiante:\")\n",
    "        print(datos_nuevos)\n",
    "        \n",
    "        # --- Preprocesamiento ---\n",
    "        # 1. Escalar los datos con el scaler cargado\n",
    "        datos_escalados = scaler.transform(datos_nuevos)\n",
    "        \n",
    "        # --- Predicción con Modelo Lineal ---\n",
    "        pred_lineal = linear_model.predict(datos_escalados)\n",
    "        \n",
    "        # --- Predicción con Modelo Polinómico ---\n",
    "        # 2. Transformar los datos escalados a características polinómicas\n",
    "        datos_polinomicos = poly_features.transform(datos_escalados)\n",
    "        pred_polinomica = poly_model.predict(datos_polinomicos)\n",
    "        \n",
    "        # Devolver resultados en un formato claro\n",
    "        resultados = {\n",
    "            'prediccion_lineal': round(pred_lineal[0], 2),\n",
    "            'prediccion_polinomica': round(pred_polinomica[0], 2)\n",
    "        }\n",
    "        \n",
    "        return resultados\n",
    "\n",
    "    except Exception as e:\n",
    "        return f\"Ocurrió un error durante la predicción: {e}\""
   ]
  },
  {
   "cell_type": "code",
   "execution_count": 5,
   "id": "6aed1f74",
   "metadata": {},
   "outputs": [
    {
     "name": "stdout",
     "output_type": "stream",
     "text": [
      "\n",
      "\n",
      "--- PREDICCIÓN PARA EL ESTUDIANTE 1 ---\n",
      "\n",
      "--------------------------------------------------\n",
      "Datos de entrada del estudiante:\n",
      "   G1  G2  studytime  failures  absences\n",
      "0  16  17          3         0         1\n",
      "\n",
      "Resultados de la predicción:\n",
      "  👨‍💻 Modelo Lineal predice una nota final de: 17.45\n",
      "  🧠 Modelo Polinómico predice una nota final de: 17.38\n"
     ]
    }
   ],
   "source": [
    "print(\"\\n\\n--- PREDICCIÓN PARA EL ESTUDIANTE 1 ---\")\n",
    "resultado1 = predecir_calificacion_final(G1=16, G2=17, studytime=3, failures=0, absences=1)\n",
    "if isinstance(resultado1, dict):\n",
    "    print(\"\\nResultados de la predicción:\")\n",
    "    print(f\"  👨‍💻 Modelo Lineal predice una nota final de: {resultado1['prediccion_lineal']}\")\n",
    "    print(f\"  🧠 Modelo Polinómico predice una nota final de: {resultado1['prediccion_polinomica']}\")\n"
   ]
  },
  {
   "cell_type": "code",
   "execution_count": 6,
   "id": "c0037c72",
   "metadata": {},
   "outputs": [
    {
     "name": "stdout",
     "output_type": "stream",
     "text": [
      "\n",
      "\n",
      "--- PREDICCIÓN PARA EL ESTUDIANTE 2 ---\n",
      "\n",
      "--------------------------------------------------\n",
      "Datos de entrada del estudiante:\n",
      "   G1  G2  studytime  failures  absences\n",
      "0   8   9          2         2        10\n",
      "\n",
      "Resultados de la predicción:\n",
      "  👨‍💻 Modelo Lineal predice una nota final de: 8.19\n",
      "  🧠 Modelo Polinómico predice una nota final de: 8.65\n"
     ]
    }
   ],
   "source": [
    "print(\"\\n\\n--- PREDICCIÓN PARA EL ESTUDIANTE 2 ---\")\n",
    "resultado2 = predecir_calificacion_final(G1=8, G2=9, studytime=2, failures=2, absences=10)\n",
    "if isinstance(resultado2, dict):\n",
    "    print(\"\\nResultados de la predicción:\")\n",
    "    print(f\"  👨‍💻 Modelo Lineal predice una nota final de: {resultado2['prediccion_lineal']}\")\n",
    "    print(f\"  🧠 Modelo Polinómico predice una nota final de: {resultado2['prediccion_polinomica']}\")"
   ]
  }
 ],
 "metadata": {
  "kernelspec": {
   "display_name": "Python 3",
   "language": "python",
   "name": "python3"
  },
  "language_info": {
   "codemirror_mode": {
    "name": "ipython",
    "version": 3
   },
   "file_extension": ".py",
   "mimetype": "text/x-python",
   "name": "python",
   "nbconvert_exporter": "python",
   "pygments_lexer": "ipython3",
   "version": "3.10.6"
  }
 },
 "nbformat": 4,
 "nbformat_minor": 5
}
